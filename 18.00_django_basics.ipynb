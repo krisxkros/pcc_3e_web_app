{
 "cells": [
  {
   "cell_type": "markdown",
   "metadata": {},
   "source": [
    "# Django basics\n",
    "Django is popular **'web framework'**: a set of tools designed for building interactive web applications.\n",
    "\n",
    "## Setting up a project\n",
    "1. describe the project’s goals in a specification, or *spec*\n",
    "2. Once you have a clear set of goals, you can start to identify manageable tasks to achieve those goals.\n",
    "\n",
    "### Writing a spec\n",
    "We’ll write a web app called Learning Log that allows users to:\n",
    "- log the topics they’re interested ii\n",
    "- make journal entries as they learn about each topic\n",
    "\n",
    "The Learning Log home page will:\n",
    "- describe the site\n",
    "- invite users to either register or log in\n",
    "\n",
    "Once logged in a user can:\n",
    "- create new topics\n",
    "- add new entries\n",
    "- read and edit existing entries"
   ]
  }
 ],
 "metadata": {
  "kernelspec": {
   "display_name": "pcc_3e_web_app",
   "language": "python",
   "name": "python3"
  },
  "language_info": {
   "name": "python",
   "version": "3.13.0"
  }
 },
 "nbformat": 4,
 "nbformat_minor": 2
}
