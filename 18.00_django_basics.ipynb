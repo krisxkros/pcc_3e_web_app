{
 "cells": [],
 "metadata": {
  "kernelspec": {
   "display_name": "pcc_3e_web_app",
   "language": "python",
   "name": "python3"
  },
  "language_info": {
   "name": "python",
   "version": "3.13.0"
  }
 },
 "nbformat": 4,
 "nbformat_minor": 2
}
